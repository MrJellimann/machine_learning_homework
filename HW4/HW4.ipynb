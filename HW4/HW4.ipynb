{
  "nbformat": 4,
  "nbformat_minor": 0,
  "metadata": {
    "colab": {
      "name": "HW4.ipynb",
      "provenance": [],
      "include_colab_link": true
    },
    "kernelspec": {
      "name": "python3",
      "display_name": "Python 3"
    }
  },
  "cells": [
    {
      "cell_type": "markdown",
      "metadata": {
        "id": "view-in-github",
        "colab_type": "text"
      },
      "source": [
        "<a href=\"https://colab.research.google.com/github/MrJellimann/machine_learning_homework/blob/master/HW4.ipynb\" target=\"_parent\"><img src=\"https://colab.research.google.com/assets/colab-badge.svg\" alt=\"Open In Colab\"/></a>"
      ]
    },
    {
      "cell_type": "markdown",
      "metadata": {
        "id": "E_nz1tGZK7g3",
        "colab_type": "text"
      },
      "source": [
        "# **HW4**\n",
        "# Christopher Walen, COP 4630, Fall 2019\n",
        "\n",
        "As discussed yesterday in class, summarize and describe the different concepts/methods/algorithms that you have learned in this course.\n",
        "\n",
        "Use a Colab notebook. Make sure that you organize the material logically by using sections/subsections. Also, use code cell to include code snippets.\n",
        "\n",
        "I suggest that you group everything into five categories:\n",
        "\n",
        "0. General concepts (for instance, what is artificial intelligence, machine learning, deep learning)\n",
        "\n",
        "1. Building a model (for instance, here you can talk about the structure of a convent, what it components are etc.)\n",
        "\n",
        "2. Comping a model (for instance, you can talk here about optimizers, learning rate etc.)\n",
        "\n",
        "3. Training a model (for instance, you can talk about overfitting/underfitting)\n",
        "\n",
        "4.  Finetuning  a pretrained model (describe how you proceed)"
      ]
    },
    {
      "cell_type": "markdown",
      "metadata": {
        "id": "oo1s6P1cXPt0",
        "colab_type": "text"
      },
      "source": [
        "# **Foreword**\n",
        "\n",
        "All code that is present in this pseudo-article comes from my GitHub repository that came as a result of this class, CAP 4630. In this way, it is by no means fully complete or fully 'sound' as far as code can go for AI, and I do not guarantee it to work completely as I am still learning.\n",
        "\n",
        "The repository can be found here: https://github.com/MrJellimann/machine_learning_homework\n",
        "\n",
        "I will also say outright that the following is mainly my interpretation of the material we learned in class with Professor Wocjan, with supplementary information from his lecture slides."
      ]
    },
    {
      "cell_type": "markdown",
      "metadata": {
        "id": "3jEurhSpLu1Q",
        "colab_type": "text"
      },
      "source": [
        "# **Category 1 - General Concepts**\n",
        "\n"
      ]
    },
    {
      "cell_type": "markdown",
      "metadata": {
        "id": "rPc5AobIMPtQ",
        "colab_type": "text"
      },
      "source": [
        "The field of Artificial Intelligence is a large and robust field that contains many subsets of AI that all accomplish different tasks or goals.\n",
        "\n",
        "The first big distinction is the difference between Artificial Intelligence, and Machine Learning. While Machine Learning is a part of AI, it is not the be-all-end-all of AI - in fact it is a subset of AI that focuses on training itself based on data that follows the following structure:\n",
        "\n",
        "    Input  -> +---+\n",
        "              |   | -> Rules\n",
        "    Output -> +---+\n",
        "\n",
        "After training itself upon this data that has the desired output included, the ML machine generates a set of rules for dealing with the data that it was given. Then we do the following:\n",
        "\n",
        "    Input  -> +---+\n",
        "              |   | -> Predictions\n",
        "    Rules  -> +---+\n",
        "\n",
        "We then compare those predictions to the actual output (which was previously hidden from the machine) to get our accuracy model for use against unknown data. For example, if we had a bunch of pictures of dogs that we trained the AI on of all the different breeds, if we then showed the AI a new picture of a new dog, it should be able to give a guess with X% confidence that it is of breed Y.\n",
        "\n",
        "In a more general sense, I take Artificial Intelligence to be:\n",
        "\n",
        "```the art of taking a computer and teaching it to engage in behaviors that would otherwise be deemed behaviors made by an intelligent, living being```\n",
        "\n",
        "This is a broad definition, but I would say this applies to things as simple as the glorified state machines that we see in modern Video Games (granted they can be more complicated than simple state machines), all the way up to Personal Assistants i.e. Alexa or Google Assistant, or Face Recognition Software.\n",
        "\n",
        "In this sense I'd like to co-opt another definition prescribed to AI:\n",
        "\n",
        "```A computer system able to perform tasks that normally require human intelligence, such as visual perception, speech recognition, decision-making, and translation between languages.```\n",
        "\n",
        "Since this course focused on Machine Learning, we'll explore the concepts and applications of what I learned over the course as that applies to ML."
      ]
    },
    {
      "cell_type": "markdown",
      "metadata": {
        "id": "-6Vzdx_GL3QR",
        "colab_type": "text"
      },
      "source": [
        "# **Category 2 - Building a Model**"
      ]
    },
    {
      "cell_type": "markdown",
      "metadata": {
        "id": "0nFPUOJWU8nW",
        "colab_type": "text"
      },
      "source": [
        "In Machine Learning, when working with the data set in question we have what we call the model.\n",
        "\n",
        "The model is the relationship between the features and labels of a particular data set, where the features are the characteristics of an item in the data set, and the label is the 'answer' so to speak.\n",
        "\n",
        "The example given in class was that of a data set wherein the leaf length and width of a series of plants was recorded - these being the features - and then stored with the name of the species corresponding to that plant - this being the label.\n",
        "\n",
        "One of the assignments that we had in class (specifically HW1, Question 3) was to look at the MNIST hand-written numbers dataset and determine the best-fit image for a given number in the data set. To achieve this, we had to create a model that would represent each number and add data that our machine would find as it took in the MNIST data set. In this instance, our model was simply a two-axis graph, where each point on the graph represented the alpha-intensity of a pixel in the number image.\n",
        "\n",
        "In this case, the features are the alpha values at each pixel in the image, and the labels are the actual number that each image is representing.\n",
        "\n",
        "We can achieve this simply with the following:"
      ]
    },
    {
      "cell_type": "code",
      "metadata": {
        "id": "UQObvykBL6-w",
        "colab_type": "code",
        "outputId": "3c100c1c-202e-4896-f959-a4b739b8af89",
        "colab": {
          "base_uri": "https://localhost:8080/",
          "height": 134
        }
      },
      "source": [
        "from keras.datasets import mnist\n",
        "import numpy as np\n",
        "\n",
        "(train_images, train_labels), (test_images, test_labels) = mnist.load_data()\n",
        "\n",
        "import matplotlib.pyplot as plt\n",
        "\n",
        "digit_0 = []\n",
        "digit_1 = []\n",
        "digit_2 = []\n",
        "digit_3 = []\n",
        "digit_4 = []\n",
        "digit_5 = []\n",
        "digit_6 = []\n",
        "digit_7 = []\n",
        "digit_8 = []\n",
        "digit_9 = []"
      ],
      "execution_count": 0,
      "outputs": [
        {
          "output_type": "stream",
          "text": [
            "Using TensorFlow backend.\n"
          ],
          "name": "stderr"
        },
        {
          "output_type": "display_data",
          "data": {
            "text/html": [
              "<p style=\"color: red;\">\n",
              "The default version of TensorFlow in Colab will soon switch to TensorFlow 2.x.<br>\n",
              "We recommend you <a href=\"https://www.tensorflow.org/guide/migrate\" target=\"_blank\">upgrade</a> now \n",
              "or ensure your notebook will continue to use TensorFlow 1.x via the <code>%tensorflow_version 1.x</code> magic:\n",
              "<a href=\"https://colab.research.google.com/notebooks/tensorflow_version.ipynb\" target=\"_blank\">more info</a>.</p>\n"
            ],
            "text/plain": [
              "<IPython.core.display.HTML object>"
            ]
          },
          "metadata": {
            "tags": []
          }
        },
        {
          "output_type": "stream",
          "text": [
            "Downloading data from https://s3.amazonaws.com/img-datasets/mnist.npz\n",
            "11493376/11490434 [==============================] - 1s 0us/step\n"
          ],
          "name": "stdout"
        }
      ]
    },
    {
      "cell_type": "markdown",
      "metadata": {
        "id": "Z2I-xH8pZb8p",
        "colab_type": "text"
      },
      "source": [
        "Each list will hold all of the data that we've found for each number, and store it. In effect we're sorting the data so that we can better train with it further down into the code. Here we actually 'train' the data (though for this question we did not have to make any predictions with the data)."
      ]
    },
    {
      "cell_type": "code",
      "metadata": {
        "id": "cOm8F7jlZ8T2",
        "colab_type": "code",
        "colab": {}
      },
      "source": [
        "for x in range(len(train_labels)):\n",
        "  if train_labels[x] == 0:\n",
        "    digit_0.append(train_images[x])\n",
        "  if train_labels[x] == 1:\n",
        "    digit_1.append(train_images[x])\n",
        "  if train_labels[x] == 2:\n",
        "    digit_2.append(train_images[x])\n",
        "  if train_labels[x] == 3:\n",
        "    digit_3.append(train_images[x])\n",
        "  if train_labels[x] == 4:\n",
        "    digit_4.append(train_images[x])\n",
        "  if train_labels[x] == 5:\n",
        "    digit_5.append(train_images[x])\n",
        "  if train_labels[x] == 6:\n",
        "    digit_6.append(train_images[x])\n",
        "  if train_labels[x] == 7:\n",
        "    digit_7.append(train_images[x])\n",
        "  if train_labels[x] == 8:\n",
        "    digit_8.append(train_images[x])\n",
        "  if train_labels[x] == 9:\n",
        "    digit_9.append(train_images[x])\n",
        "\n",
        "avg_0 = np.average(digit_0, axis=0)\n",
        "avg_1 = np.average(digit_1, axis=0)\n",
        "avg_2 = np.average(digit_2, axis=0)\n",
        "avg_3 = np.average(digit_3, axis=0)\n",
        "avg_4 = np.average(digit_4, axis=0)\n",
        "avg_5 = np.average(digit_5, axis=0)\n",
        "avg_6 = np.average(digit_6, axis=0)\n",
        "avg_7 = np.average(digit_7, axis=0)\n",
        "avg_8 = np.average(digit_8, axis=0)\n",
        "avg_9 = np.average(digit_9, axis=0)"
      ],
      "execution_count": 0,
      "outputs": []
    },
    {
      "cell_type": "markdown",
      "metadata": {
        "id": "cL8CTI3SZ3ls",
        "colab_type": "text"
      },
      "source": [
        "This, while simple and not calculation heavy, resulted in the following 'heat-maps' that clearly demonstrates the 'average' MNIST number for each number 0-9."
      ]
    },
    {
      "cell_type": "code",
      "metadata": {
        "id": "jPfCjSzeaHoA",
        "colab_type": "code",
        "colab": {
          "base_uri": "https://localhost:8080/",
          "height": 1000
        },
        "outputId": "a53c3481-8660-423d-d45d-f4b69737529d"
      },
      "source": [
        "plt.imshow(avg_0)\n",
        "plt.show()\n",
        "\n",
        "plt.imshow(avg_1)\n",
        "plt.show()\n",
        "\n",
        "plt.imshow(avg_2)\n",
        "plt.show()\n",
        "\n",
        "plt.imshow(avg_3)\n",
        "plt.show()\n",
        "\n",
        "plt.imshow(avg_4)\n",
        "plt.show()\n",
        "\n",
        "plt.imshow(avg_5)\n",
        "plt.show()\n",
        "\n",
        "plt.imshow(avg_6)\n",
        "plt.show()\n",
        "\n",
        "plt.imshow(avg_7)\n",
        "plt.show()\n",
        "\n",
        "plt.imshow(avg_8)\n",
        "plt.show()\n",
        "\n",
        "plt.imshow(avg_9)\n",
        "plt.show()"
      ],
      "execution_count": 3,
      "outputs": [
        {
          "output_type": "display_data",
          "data": {
            "image/png": "[encoded data removed]",
            "text/plain": [
              "<Figure size 432x288 with 1 Axes>"
            ]
          },
          "metadata": {
            "tags": []
          }
        },
        {
          "output_type": "display_data",
          "data": {
            "image/png": "[encoded data removed]",
            "text/plain": [
              "<Figure size 432x288 with 1 Axes>"
            ]
          },
          "metadata": {
            "tags": []
          }
        },
        {
          "output_type": "display_data",
          "data": {
            "image/png": "[encoded data removed]",
            "text/plain": [
              "<Figure size 432x288 with 1 Axes>"
            ]
          },
          "metadata": {
            "tags": []
          }
        },
        {
          "output_type": "display_data",
          "data": {
            "image/png": "[encoded data removed]",
            "text/plain": [
              "<Figure size 432x288 with 1 Axes>"
            ]
          },
          "metadata": {
            "tags": []
          }
        },
        {
          "output_type": "display_data",
          "data": {
            "image/png": "[encoded data removed]",
            "text/plain": [
              "<Figure size 432x288 with 1 Axes>"
            ]
          },
          "metadata": {
            "tags": []
          }
        },
        {
          "output_type": "display_data",
          "data": {
            "image/png": "[encoded data removed]",
            "text/plain": [
              "<Figure size 432x288 with 1 Axes>"
            ]
          },
          "metadata": {
            "tags": []
          }
        },
        {
          "output_type": "display_data",
          "data": {
            "image/png": "[encoded data removed]",
            "text/plain": [
              "<Figure size 432x288 with 1 Axes>"
            ]
          },
          "metadata": {
            "tags": []
          }
        },
        {
          "output_type": "display_data",
          "data": {
            "image/png": "[encoded data removed]",
            "text/plain": [
              "<Figure size 432x288 with 1 Axes>"
            ]
          },
          "metadata": {
            "tags": []
          }
        },
        {
          "output_type": "display_data",
          "data": {
            "image/png": "[encoded data removed]",
            "text/plain": [
              "<Figure size 432x288 with 1 Axes>"
            ]
          },
          "metadata": {
            "tags": []
          }
        },
        {
          "output_type": "display_data",
          "data": {
            "image/png": "[encoded data removed]",
            "text/plain": [
              "<Figure size 432x288 with 1 Axes>"
            ]
          },
          "metadata": {
            "tags": []
          }
        }
      ]
    },
    {
      "cell_type": "markdown",
      "metadata": {
        "id": "LeOlNjvFaIHA",
        "colab_type": "text"
      },
      "source": [
        "For computing a model, lets look at something thats a bit more calculation heavy."
      ]
    },
    {
      "cell_type": "markdown",
      "metadata": {
        "id": "0shWxTV_L6a5",
        "colab_type": "text"
      },
      "source": [
        "# **Category 3 - Computing a Model**"
      ]
    },
    {
      "cell_type": "markdown",
      "metadata": {
        "id": "oqnPS2b6apV4",
        "colab_type": "text"
      },
      "source": [
        "Now that we have a basic understanding of what a model is, we can take a look at a more complex one that we used in class.\n",
        "\n",
        "One of the most important formulas for any statistical analysis is that of linear regression, which leads us to a quick segway.\n",
        "\n",
        "There are two main types of models - regression models and classification models. Regression models deal with literal values, i.e. it will compute and predict values for a given question, such as what is the percentage chance that it will rain today, or the estimated number of purchased homes in a year. Classification models go the more abstract route, into the realm of discrete math, to answer questions such as if a statement is true or false, or if a given image is an animal, car, or house.\n",
        "\n",
        "To look at this in more detail, lets go back to the linear regression equation, which is:\n",
        "\n",
        "    y' = b + w1x1 + w2x2 + ... + wpxp + epsilon(i)\n",
        "\n"
      ]
    },
    {
      "cell_type": "markdown",
      "metadata": {
        "id": "E7ScxUWceMie",
        "colab_type": "text"
      },
      "source": [
        "This equation simply means that for a given y' (usually written as y of i, which is impossible to write in colab) we have an intercept at b, then for each feature x we have any number of weights that we can turn into a scalar to multiply by the vector provided by the features x. All this means is that for each weighting of every group of features, we get a value that goes into our equation.\n",
        "\n",
        "So, lets look at an example (HW1, Question 2) where we plotted random numbers along a graph then performed linear regression on them. The catch was that we had to use the machine to find the equation."
      ]
    },
    {
      "cell_type": "code",
      "metadata": {
        "id": "idFcgjDoL_8o",
        "colab_type": "code",
        "colab": {}
      },
      "source": [
        "%matplotlib inline\n",
        "import matplotlib as mpl\n",
        "import matplotlib.pyplot as plt\n",
        "mpl.rc('axes', labelsize=14)\n",
        "mpl.rc('xtick', labelsize=12)\n",
        "mpl.rc('ytick', labelsize=12)"
      ],
      "execution_count": 0,
      "outputs": []
    },
    {
      "cell_type": "code",
      "metadata": {
        "id": "QxEOHZPdfQN_",
        "colab_type": "code",
        "colab": {}
      },
      "source": [
        "import numpy as np\n",
        "np.random.seed(420)\n",
        "\n",
        "xs = 2 * np.random.rand(100, 1)\n",
        "x2 = 2 * np.random.rand(100, 1)\n",
        "ys = 4 + 3 * xs + np.random.rand(100, 1)"
      ],
      "execution_count": 0,
      "outputs": []
    },
    {
      "cell_type": "code",
      "metadata": {
        "id": "GzD2YSGdfRCM",
        "colab_type": "code",
        "colab": {
          "base_uri": "https://localhost:8080/",
          "height": 290
        },
        "outputId": "85b538db-db12-4e02-9bb5-d045434a4cc0"
      },
      "source": [
        "plt.plot(xs, ys, \"b.\")\n",
        "plt.plot(x2, ys, \"g.\")\n",
        "plt.xlabel(\"$x_1, x_2$\", fontsize=18)\n",
        "plt.ylabel(\"$y$\", rotation=0, fontsize=18)\n",
        "plt.axis([0, 2, 0, 15])\n",
        "plt.show()"
      ],
      "execution_count": 19,
      "outputs": [
        {
          "output_type": "display_data",
          "data": {
            "image/png": "[encoded data removed]",
            "text/plain": [
              "<Figure size 432x288 with 1 Axes>"
            ]
          },
          "metadata": {
            "tags": []
          }
        }
      ]
    },
    {
      "cell_type": "markdown",
      "metadata": {
        "id": "jCS4zbArfTw-",
        "colab_type": "text"
      },
      "source": [
        "Now that we have our generated data set, we can start computing our model. The first thing that we're going to do is to split the data into training data and testing data, which covers our next section."
      ]
    },
    {
      "cell_type": "markdown",
      "metadata": {
        "id": "FLhlMg4DMAJi",
        "colab_type": "text"
      },
      "source": [
        "# **Category 4 - Training a Model**"
      ]
    },
    {
      "cell_type": "markdown",
      "metadata": {
        "id": "aTbdd471foYa",
        "colab_type": "text"
      },
      "source": [
        "Whenever we train a model, what we're doing is we're telling the machine to generate a set of rules based on the data that it's given. When we use python, we can use the networks provided in numpy to give us a hand with generating these rules for the machine.\n",
        "\n",
        "It's important to note that we always split or in some way separate our data into two chunks - a training set and a testing set.\n",
        "\n",
        "The training set is where we actually generate those rules from, and the testing set is where we test those rules. So for now let's continue with our previous example, and split the data."
      ]
    },
    {
      "cell_type": "code",
      "metadata": {
        "id": "lSH8XmWIMDFF",
        "colab_type": "code",
        "colab": {}
      },
      "source": [
        "# training set\n",
        "train_xs = xs[:80]\n",
        "train_x2 = x2[:80]\n",
        "train_ys = ys[:80]\n",
        "# testing set\n",
        "test_xs = xs[80:]\n",
        "test_x2 = x2[80:]\n",
        "test_ys = ys[80:]"
      ],
      "execution_count": 0,
      "outputs": []
    },
    {
      "cell_type": "markdown",
      "metadata": {
        "id": "ssYUtJybgIJW",
        "colab_type": "text"
      },
      "source": [
        "With that final piece of pre-computation out of the way, we can get to actually training and computing the model.\n",
        "\n",
        "We'll use what's called an epoch, which is essentially one 'run-through' of the data set. This means that we examine every single piece of data in the set once and make our predictions or rules from that. Then we run another epoch and compare those results to the previous one. The more epochs we run, the closer we can make our predictions (which falls under fine-tuning our model).\n",
        "\n",
        "So the first thing we'll do is define the number of epochs that we want to use, as well as how far along our data we want to move for every step of computation."
      ]
    },
    {
      "cell_type": "code",
      "metadata": {
        "id": "1GljAQDvg2-k",
        "colab_type": "code",
        "colab": {}
      },
      "source": [
        "# number of epochs\n",
        "epochs = 15\n",
        "# learning rate\n",
        "lr = 0.001"
      ],
      "execution_count": 0,
      "outputs": []
    },
    {
      "cell_type": "markdown",
      "metadata": {
        "id": "ntWLkz4wg6kG",
        "colab_type": "text"
      },
      "source": [
        "Next, let's define a starting point for our machine to begin its computation and training on. Since we don't know anything about the data and we don't have any pre-conceived notions about the data, we can just randomly generate it. Here we will also describe our intercept b for the regression equation."
      ]
    },
    {
      "cell_type": "code",
      "metadata": {
        "id": "Wdg7-hYNhKIu",
        "colab_type": "code",
        "colab": {}
      },
      "source": [
        "# initial value for weight w and bias b\n",
        "w = np.random.randn(1)\n",
        "w2 = np.random.randn(1) # extension\n",
        "b = np.zeros(1)"
      ],
      "execution_count": 0,
      "outputs": []
    },
    {
      "cell_type": "markdown",
      "metadata": {
        "id": "MxjilRnrhMw0",
        "colab_type": "text"
      },
      "source": [
        "Now let's train our model with the epochs that we defined, using our generated data set."
      ]
    },
    {
      "cell_type": "code",
      "metadata": {
        "id": "0K-GZIvWhSYg",
        "colab_type": "code",
        "colab": {}
      },
      "source": [
        "for epoch in np.arange(epochs):\n",
        "  for i in np.arange(80):\n",
        "    y_pred = w * train_xs[i] + w2 * train_x2[i] + b # extension within\n",
        "    \n",
        "    grad_w = (y_pred - train_ys[i]) * train_xs[i]\n",
        "    grad_w2 = (y_pred - train_ys[i]) * train_x2[i] # extension\n",
        "    grad_b = (y_pred - train_ys[i])\n",
        "    \n",
        "    w -= lr * grad_w\n",
        "    w2 -= lr * grad_w2 # extension\n",
        "    b -= lr * grad_b"
      ],
      "execution_count": 0,
      "outputs": []
    },
    {
      "cell_type": "markdown",
      "metadata": {
        "id": "s0hHoavFhUlg",
        "colab_type": "text"
      },
      "source": [
        "For better training results, let's also calculate our test loss."
      ]
    },
    {
      "cell_type": "code",
      "metadata": {
        "id": "zvcnA9SFhltw",
        "colab_type": "code",
        "colab": {}
      },
      "source": [
        "test_loss = 0\n",
        "\n",
        "for i in np.arange(20):\n",
        "  test_loss += 0.5 * (w * test_xs[i] + w2 * test_x2[i] + b - test_ys[i]) ** 2\n",
        "test_loss /= 20"
      ],
      "execution_count": 0,
      "outputs": []
    },
    {
      "cell_type": "markdown",
      "metadata": {
        "id": "DTM7MChIhyXi",
        "colab_type": "text"
      },
      "source": [
        "In the above two snippets, you can see the regression equation that we used for our y_pred and test_loss variables.\n",
        "\n",
        "Now, we've effectively trained the model and come up with our equation. All that's left to do is make the predictions and plot them."
      ]
    },
    {
      "cell_type": "code",
      "metadata": {
        "id": "fYHQ1dEkiQci",
        "colab_type": "code",
        "colab": {}
      },
      "source": [
        "pred_ys = w * test_xs + w2 * test_x2 + b"
      ],
      "execution_count": 0,
      "outputs": []
    },
    {
      "cell_type": "code",
      "metadata": {
        "id": "b46xbsu4iTYx",
        "colab_type": "code",
        "colab": {
          "base_uri": "https://localhost:8080/",
          "height": 290
        },
        "outputId": "a377b71a-191c-4933-f9fe-3562c90f590f"
      },
      "source": [
        "plt.plot(test_xs, test_ys, \"b.\")\n",
        "plt.plot(test_x2, test_ys, \"g.\")\n",
        "plt.plot(test_xs, pred_ys, \"r.\") # predicted values \n",
        "plt.plot(test_x2, pred_ys, \"y.\")\n",
        "\n",
        "plt.xlabel(\"$x_1, x_2$\", fontsize=18)\n",
        "plt.ylabel(\"$y$\", rotation=0, fontsize=18)\n",
        "plt.axis([0, 2, 0, 15])\n",
        "plt.show()"
      ],
      "execution_count": 26,
      "outputs": [
        {
          "output_type": "display_data",
          "data": {
            "image/png": "[encoded data removed]",
            "text/plain": [
              "<Figure size 432x288 with 1 Axes>"
            ]
          },
          "metadata": {
            "tags": []
          }
        }
      ]
    },
    {
      "cell_type": "markdown",
      "metadata": {
        "id": "23hxga7Mih6g",
        "colab_type": "text"
      },
      "source": [
        "(Note: slight modifications were made to some numbers to show different results. Original code and results are in the GitHub repository)"
      ]
    },
    {
      "cell_type": "markdown",
      "metadata": {
        "id": "YL_-cIDNMDRA",
        "colab_type": "text"
      },
      "source": [
        "# **Category 5 - Finetuning a Pre-Trained Model**"
      ]
    },
    {
      "cell_type": "markdown",
      "metadata": {
        "id": "U_r1v6ptiqk7",
        "colab_type": "text"
      },
      "source": [
        "Fine-tuning a model could mean many specific things, but in general it means narrowing down the predictions of a model so that it gets even closer to the desired output as is possible. This could mean making smaller steps along the data set so that we don't miss any data that could affect our prediction, it could mean running and training with a large number of epochs, as in more than 50 epochs or some other large number, it could also mean using an extremely large data set to ensure that all possible cases in the data set are 'experienced' by the machine to help with predictions.\n",
        "\n",
        "However, going too far with any of these can result in the machine slowing down or otherwise being inefficient when it comes to calculation time of the predictions, and by that point the information could be useless or outdated.\n",
        "\n",
        "Therefore, fine-tuning a model such as the one above could mean adding more weights to each piece of the regression model, so that we can get even closer to the regression line in the data. This also means using a resonable number of epochs, given the size of the data set and the efficiency and accuracy of a small number of epochs on a data set. Ultimately, its a fine balance between heavy calculation to get closer to the desired output and light calculation to get the rough shape of the data you're currently observing. However, going too light will not provide you with useful data in most cases, and going too heavy will not provide you with useful data in a reasonable timeframe. Fine-tuning then, is that balancing act, tweaking and observing the changes that values make on the system, so that the most efficient and accurate model can be produced when it comes time for predictions."
      ]
    }
  ]
}